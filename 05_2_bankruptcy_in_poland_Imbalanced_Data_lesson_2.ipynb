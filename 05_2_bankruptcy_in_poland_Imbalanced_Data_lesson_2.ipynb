{
  "nbformat": 4,
  "nbformat_minor": 0,
  "metadata": {
    "colab": {
      "provenance": [],
      "authorship_tag": "ABX9TyNOwPQgUKbVwXjljMo5lza7",
      "include_colab_link": true
    },
    "kernelspec": {
      "name": "python3",
      "display_name": "Python 3"
    },
    "language_info": {
      "name": "python"
    }
  },
  "cells": [
    {
      "cell_type": "markdown",
      "metadata": {
        "id": "view-in-github",
        "colab_type": "text"
      },
      "source": [
        "<a href=\"https://colab.research.google.com/github/evansmakori/Bankruptcy-in-Poland/blob/main/05_2_bankruptcy_in_poland_Imbalanced_Data_lesson_2.ipynb\" target=\"_parent\"><img src=\"https://colab.research.google.com/assets/colab-badge.svg\" alt=\"Open In Colab\"/></a>"
      ]
    },
    {
      "cell_type": "markdown",
      "source": [
        "5.2. Imbalanced Data\n",
        "\n",
        "In the last lesson, we prepared the data.\n",
        "\n",
        "In this lesson, we're going to explore some of the features of the dataset, use visualizations to help us understand those features, and develop a model that solves the problem of imbalanced data by under- and over-sampling."
      ],
      "metadata": {
        "id": "fuSF333ZZAUS"
      }
    },
    {
      "cell_type": "code",
      "source": [
        "import gzip\n",
        "import json\n",
        "import pickle\n",
        "\n",
        "import matplotlib.pyplot as plt\n",
        "import pandas as pd\n",
        "import seaborn as sns\n",
        "import wqet_grader\n",
        "from imblearn.over_sampling import RandomOverSampler\n",
        "from imblearn.under_sampling import RandomUnderSampler\n",
        "from IPython.display import VimeoVideo\n",
        "from sklearn.impute import SimpleImputer\n",
        "from sklearn.metrics import ConfusionMatrixDisplay\n",
        "from sklearn.model_selection import train_test_split\n",
        "from sklearn.pipeline import make_pipeline\n",
        "from sklearn.tree import DecisionTreeClassifier\n",
        "\n",
        "wqet_grader.init(\"Project 5 Assessment\")\n"
      ],
      "metadata": {
        "id": "IMojYeTxZCN7"
      },
      "execution_count": null,
      "outputs": []
    },
    {
      "cell_type": "markdown",
      "source": [
        "Prepare Data\n",
        "Import\n",
        "As always, we need to begin by bringing our data into the project, and the function we developed in the previous module is exactly what we need."
      ],
      "metadata": {
        "id": "1E_HV9utZEdd"
      }
    },
    {
      "cell_type": "markdown",
      "source": [
        "Task 5.2.1: Complete the wrangle function below using the code you developed in the last lesson. Then use it to import poland-bankruptcy-data-2009.json.gz into the DataFrame df."
      ],
      "metadata": {
        "id": "znqmHjoiZGFk"
      }
    },
    {
      "cell_type": "code",
      "source": [
        "def wrangle(filename):\n",
        "\n",
        "    # Open compressed file, load into dictionary\n",
        "    with gzip.open(filename, \"r\") as f:\n",
        "        data = json.load(f)\n",
        "    # Load dictionary into DataFrame, set index\n",
        "    df = pd.DataFrame().from_dict(data[\"data\"]).set_index(\"company_id\")\n",
        "\n",
        "    return df"
      ],
      "metadata": {
        "id": "y_3g3aSmZG88"
      },
      "execution_count": null,
      "outputs": []
    },
    {
      "cell_type": "code",
      "source": [
        "df = wrangle(\"data/poland-bankruptcy-data-2009.json.gz\")\n",
        "print(df.shape)\n",
        "df.head()"
      ],
      "metadata": {
        "id": "op2w6a4pZIKH"
      },
      "execution_count": null,
      "outputs": []
    },
    {
      "cell_type": "markdown",
      "source": [
        "Explore\n",
        "Let's take a moment to refresh our memory on what's in this dataset. In the last lesson, we noticed that the data was stored in a JSON file (similar to a Python dictionary), and we explored the key-value pairs. This time, we're going to look at what the values in those pairs actually are."
      ],
      "metadata": {
        "id": "YUKj9CaGZJz9"
      }
    },
    {
      "cell_type": "markdown",
      "source": [
        "Task 5.2.2: Use the info method to explore df. What type of features does this dataset have? Which column is the target? Are there columns will missing values that we'll need to address?"
      ],
      "metadata": {
        "id": "Epz2tkMqZL-p"
      }
    },
    {
      "cell_type": "code",
      "source": [
        "# Inspect DataFrame\n",
        "#df.info()\n",
        "df.isnull().sum() / len(df)"
      ],
      "metadata": {
        "id": "tr4enO3bZM_U"
      },
      "execution_count": null,
      "outputs": []
    },
    {
      "cell_type": "markdown",
      "source": [
        "That's solid information. We know all our features are numerical and that we have missing data. But, as always, it's a good idea to do some visualizations to see if there are any interesting trends or ideas we should keep in mind while we work. First, let's take a look at how many firms are bankrupt, and how many are not."
      ],
      "metadata": {
        "id": "OADCHaNAZOnO"
      }
    },
    {
      "cell_type": "markdown",
      "source": [
        "Task 5.2.3: Create a bar chart of the value counts for the \"bankrupt\" column. You want to calculate the relative frequencies of the classes, not the raw count, so be sure to set the normalize argument to True."
      ],
      "metadata": {
        "id": "azzMyjuTZQV3"
      }
    },
    {
      "cell_type": "code",
      "source": [
        "# Plot class balance\n",
        "df[\"bankrupt\"].value_counts(normalize=True).plot(\n",
        "    kind=\"bar\",\n",
        "    xlabel=\"Bankrupt\",\n",
        "    ylabel=\"Frequency\",\n",
        "    title=\"Class Balance\"\n",
        ")"
      ],
      "metadata": {
        "id": "gqtje8-NZRgn"
      },
      "execution_count": null,
      "outputs": []
    },
    {
      "cell_type": "markdown",
      "source": [
        "That's good news for Poland's economy! Since it looks like most of the companies in our dataset are doing all right for themselves, let's drill down a little farther. However, it also shows us that we have an imbalanced dataset, where our majority class is far bigger than our minority class.\n",
        "\n",
        "In the last lesson, we saw that there were 64 features of each company, each of which had some kind of numerical value. It might be useful to understand where the values for one of these features cluster, so let's make a boxplot to see how the values in \"feat_27\" are distributed."
      ],
      "metadata": {
        "id": "T4YQyRKbZTWm"
      }
    },
    {
      "cell_type": "markdown",
      "source": [
        "Task 5.2.4: Use seaborn to create a boxplot that shows the distributions of the \"feat_27\" column for both groups in the \"bankrupt\" column. Remember to label your axes."
      ],
      "metadata": {
        "id": "JjayqvPkZVCg"
      }
    },
    {
      "cell_type": "code",
      "source": [
        "# Create boxplot\n",
        "sns.boxplot(x=\"bankrupt\", y=\"feat_27\",data=df)\n",
        "plt.xlabel(\"Bankrupt\")\n",
        "plt.ylabel(\"POA / financial expenses\")\n",
        "plt.title(\"Distribution of Profit/Expenses Ratio, by Class\");"
      ],
      "metadata": {
        "id": "AAzHVoXTZV0z"
      },
      "execution_count": null,
      "outputs": []
    },
    {
      "cell_type": "markdown",
      "source": [
        "Why does this look so funny? Remember that boxplots exist to help us see the quartiles in a dataset, and this one doesn't really do that. Let's check the distribution of \"feat_27\"to see if we can figure out what's going on here."
      ],
      "metadata": {
        "id": "knsaXzu8ZXUG"
      }
    },
    {
      "cell_type": "markdown",
      "source": [
        "Task 5.2.5: Use the describe method on the column for \"feat_27\". What can you tell about the distribution of the data based on the mean and median?"
      ],
      "metadata": {
        "id": "H_eQm7uaZY7W"
      }
    },
    {
      "cell_type": "code",
      "source": [
        "# Summary statistics for `feat_27`\n",
        "df[\"feat_27\"].describe().apply(\"{0:,.0f}\".format)"
      ],
      "metadata": {
        "id": "XHB5eDSGZadr"
      },
      "execution_count": null,
      "outputs": []
    },
    {
      "cell_type": "markdown",
      "source": [
        "Hmmm. Note that the median is around 1, but the mean is over 1000. That suggests that this feature is skewed to the right. Let's make a histogram to see what the distribution actually looks like.\n",
        "\n",
        "VimeoVideo(\"694058398\", h=\"1078bb6d8b\", width=600)\n",
        "\n",
        "Task 5.2.6: Create a histogram of \"feat_27\". Make sure to label x-axis \"POA / financial expenses\", the y-axis \"Count\","
      ],
      "metadata": {
        "id": "faFfjBPZZb1p"
      }
    },
    {
      "cell_type": "code",
      "source": [
        "# Plot histogram of `feat_27`\n",
        "df[\"feat_27\"].hist()\n",
        "plt.xlabel(\"POA / financial expenses\")\n",
        "plt.ylabel(\"Count\"),\n",
        "plt.title(\"Distribution of Profit/Expenses Ratio\");"
      ],
      "metadata": {
        "id": "-nQVch3aZdrE"
      },
      "execution_count": null,
      "outputs": []
    },
    {
      "cell_type": "markdown",
      "source": [
        "Aha! We saw it in the numbers and now we see it in the histogram. The data is very skewed. So, in order to create a helpful boxplot, we need to trim the data."
      ],
      "metadata": {
        "id": "oEGEPmDmZfd8"
      }
    },
    {
      "cell_type": "markdown",
      "source": [
        "Task 5.2.7: Recreate the boxplot that you made above, this time only using the values for \"feat_27\" that fall between the 0.1 and 0.9 quantiles for the column."
      ],
      "metadata": {
        "id": "SryD7rmzZgtT"
      }
    },
    {
      "cell_type": "code",
      "source": [
        "# Create clipped boxplot\n",
        "q1,q9 = df[\"feat_27\"].quantile([0.1,0.9])\n",
        "mask = df[\"feat_27\"].between(q1,q9)\n",
        "#mask.head()\n",
        "sns.boxplot(x=\"bankrupt\", y=\"feat_27\", data=df[mask])\n",
        "plt.xlabel(\"Bankrupt\")\n",
        "plt.ylabel(\"POA / financial expenses\")\n",
        "plt.title(\"Distribution of Profit/Expenses Ratio, by Bankruptcy Status\");"
      ],
      "metadata": {
        "id": "KLI5MTjgZhpZ"
      },
      "execution_count": null,
      "outputs": []
    },
    {
      "cell_type": "markdown",
      "source": [
        "Task 5.2.8: Repeat the exploration you just did for \"feat_27\" on two other features in the dataset. Do they show the same skewed distribution? Are there large differences between bankrupt and solvent companies?"
      ],
      "metadata": {
        "id": "ee1W1SUNZlFL"
      }
    },
    {
      "cell_type": "code",
      "source": [
        "# Explore another feature\n",
        "df.shape"
      ],
      "metadata": {
        "id": "oTc-Zi_FZmU6"
      },
      "execution_count": null,
      "outputs": []
    },
    {
      "cell_type": "markdown",
      "source": [
        "Looking at other features, we can see that they're skewed, too. This will be important to keep in mind when we decide what type of model we want to use.\n",
        "\n",
        "Another important consideration for model selection is whether there are any issues with multicollinearity in our model. Let's check."
      ],
      "metadata": {
        "id": "CI7Rw71gZnjx"
      }
    },
    {
      "cell_type": "markdown",
      "source": [
        "Task 5.2.9: Plot a correlation heatmap of features in df. Since \"bankrupt\" will be your target, you don't need to include it in your heatmap."
      ],
      "metadata": {
        "id": "-twW3cTwZo-0"
      }
    },
    {
      "cell_type": "code",
      "source": [
        "corr = df.drop(columns=\"bankrupt\").corr()\n",
        "#corr.head()\n",
        "sns.heatmap(corr);\n",
        "df.shape\n"
      ],
      "metadata": {
        "id": "tdi8tkn6Zp3i"
      },
      "execution_count": null,
      "outputs": []
    },
    {
      "cell_type": "markdown",
      "source": [
        "So what did we learn from this EDA? First, our data is imbalanced. This is something we need to address in our data preparation. Second, many of our features have missing values that we'll need to impute. And since the features are highly skewed, the best imputation strategy is likely median, not mean. Finally, we have autocorrelation issues, which means that we should steer clear of linear models, and try a tree-based model instead.\n",
        "\n",
        "Split\n",
        "So let's start building that model. If you need a refresher on how and why we split data in these situations, take a look back at the Time Series module.\n",
        "\n",
        "Task 5.2.10: Create your feature matrix X and target vector y. Your target is \"bankrupt\"."
      ],
      "metadata": {
        "id": "0CsmxwfXZrjh"
      }
    },
    {
      "cell_type": "code",
      "source": [
        "target = \"bankrupt\"\n",
        "X = df.drop(columns=target)\n",
        "y = df[target]\n",
        "\n",
        "print(\"X shape:\", X.shape)\n",
        "print(\"y shape:\", y.shape)"
      ],
      "metadata": {
        "id": "IeqcBIRNZs30"
      },
      "execution_count": null,
      "outputs": []
    },
    {
      "cell_type": "markdown",
      "source": [
        "In order to make sure that our model can generalize, we need to put aside a test set that we'll use to evaluate our model once it's trained.\n",
        "\n",
        "Task 5.2.11: Divide your data (X and y) into training and test sets using a randomized train-test split. Your validation set should be 20% of your total data. And don't forget to set a random_state for reproducibility."
      ],
      "metadata": {
        "id": "C6aWDlZ2ZuPB"
      }
    },
    {
      "cell_type": "code",
      "source": [
        "X_train, X_test, y_train, y_test = train_test_split(\n",
        "    X,y, test_size = 0.2, random_state = 42\n",
        ")\n",
        "\n",
        "print(\"X_train shape:\", X_train.shape)\n",
        "print(\"y_train shape:\", y_train.shape)\n",
        "print(\"X_test shape:\", X_test.shape)\n",
        "print(\"y_test shape:\", y_test.shape)"
      ],
      "metadata": {
        "id": "dtq30m5fZvUX"
      },
      "execution_count": null,
      "outputs": []
    },
    {
      "cell_type": "markdown",
      "source": [
        "Note that if we wanted to tune any hyperparameters for our model, we'd do another split here, further dividing the training set into training and validation sets. However, we're going to leave hyperparameters for the next lesson, so no need to do the extra split now.\n",
        "\n",
        "Resample\n",
        "Now that we've split our data into training and validation sets, we can address the class imbalance we saw during our EDA. One strategy is to resample the training data. (This will be different than the resampling we did with time series data in Project 3.) There are many to do this, so let's start with under-sampling."
      ],
      "metadata": {
        "id": "8B0kGmnZZwyd"
      }
    },
    {
      "cell_type": "markdown",
      "source": [
        "Task 5.2.12: Create a new feature matrix X_train_under and target vector y_train_under by performing random under-sampling on your training data."
      ],
      "metadata": {
        "id": "qsDRvrQ3ZyCt"
      }
    },
    {
      "cell_type": "code",
      "source": [
        "under_sampler = RandomUnderSampler(random_state=42)\n",
        "X_train_under, y_train_under = under_sampler.fit_resample(X_train,y_train)\n",
        "print(X_train_under.shape)\n",
        "X_train_under.head()"
      ],
      "metadata": {
        "id": "px82oupYZzL1"
      },
      "execution_count": null,
      "outputs": []
    },
    {
      "cell_type": "markdown",
      "source": [
        "Task 5.2.13: Create a new feature matrix X_train_over and target vector y_train_over by performing random over-sampling on your training data"
      ],
      "metadata": {
        "id": "ml5_4qviZ1IT"
      }
    },
    {
      "cell_type": "code",
      "source": [
        "over_sampler = RandomOverSampler(random_state=42)\n",
        "X_train_over, y_train_over = over_sampler.fit_resample(X_train,y_train)\n",
        "print(X_train_over.shape)\n",
        "X_train_over.head()"
      ],
      "metadata": {
        "id": "1CGhhiBvZ2U9"
      },
      "execution_count": null,
      "outputs": []
    },
    {
      "cell_type": "code",
      "source": [
        "y_train_over.value_counts(normalize=True)"
      ],
      "metadata": {
        "id": "6N5AvlQJZ3pN"
      },
      "execution_count": null,
      "outputs": []
    },
    {
      "cell_type": "markdown",
      "source": [
        "Task 5.2.14: Calculate the baseline accuracy score for your model."
      ],
      "metadata": {
        "id": "TszDtMEfZ5FA"
      }
    },
    {
      "cell_type": "code",
      "source": [
        "acc_baseline = y_train.value_counts(normalize=True).max()\n",
        "print(\"Baseline Accuracy:\", round(acc_baseline, 4))"
      ],
      "metadata": {
        "id": "6xtFj2o3Z6C4"
      },
      "execution_count": null,
      "outputs": []
    },
    {
      "cell_type": "markdown",
      "source": [
        "Note here that, because our classes are imbalanced, the baseline accuracy is very high. We should keep this in mind because, even if our trained model gets a high validation accuracy score, that doesn't mean it's actually good.\n",
        "\n",
        "Iterate\n",
        "Now that we have a baseline, let's build a model to see if we can beat it."
      ],
      "metadata": {
        "id": "bVaKmOmYZ70x"
      }
    },
    {
      "cell_type": "markdown",
      "source": [
        "Task 5.2.15: Create three identical models: model_reg, model_under and model_over. All of them should use a SimpleImputer followed by a DecisionTreeClassifier. Train model_reg using the unaltered training data. For model_under, use the undersampled data. For model_over, use the oversampled data."
      ],
      "metadata": {
        "id": "e1Bru1otZ9cJ"
      }
    },
    {
      "cell_type": "code",
      "source": [
        "# Fit on `X_train`, `y_train`\n",
        "model_reg = make_pipeline(\n",
        "    SimpleImputer(strategy=\"median\"),\n",
        "    DecisionTreeClassifier(random_state=42)\n",
        ")\n",
        "model_reg.fit(X_train, y_train)\n",
        "\n",
        "# Fit on `X_train_under`, `y_train_under`\n",
        "model_under = make_pipeline(\n",
        "    SimpleImputer(strategy=\"median\"),\n",
        "    DecisionTreeClassifier(random_state=42)\n",
        ")\n",
        "model_under.fit(X_train_under, y_train_under)\n",
        "\n",
        "# Fit on `X_train_over`, `y_train_over`\n",
        "model_over = make_pipeline(\n",
        "    SimpleImputer(strategy=\"median\"),\n",
        "    DecisionTreeClassifier(random_state=42)\n",
        ")\n",
        "model_over.fit(X_train_over, y_train_over)"
      ],
      "metadata": {
        "id": "BzzAMH8qZ-qB"
      },
      "execution_count": null,
      "outputs": []
    },
    {
      "cell_type": "markdown",
      "source": [
        "Evaluate\n",
        "How did we do?\n",
        "\n",
        "VimeoVideo(\"694058076\", h=\"d57fb27d07\", width=600)\n",
        "\n",
        "Task 5.2.16: Calculate training and test accuracy for your three models."
      ],
      "metadata": {
        "id": "Gs-ag3AsaAsK"
      }
    },
    {
      "cell_type": "code",
      "source": [
        "for m in [model_reg, model_under, model_over]:\n",
        "    acc_train = m.score(X_train,y_train)\n",
        "    acc_test = m.score(X_test,y_test)\n",
        "\n",
        "    print(\"Training Accuracy:\", round(acc_train, 4))\n",
        "    print(\"Test Accuracy:\", round(acc_test, 4))"
      ],
      "metadata": {
        "id": "XQkK_UOtaDE2"
      },
      "execution_count": null,
      "outputs": []
    },
    {
      "cell_type": "markdown",
      "source": [
        "As we mentioned earlier, \"good\" accuracy scores don't tell us much about the model's performance when dealing with imbalanced data. So instead of looking at what the model got right or wrong, let's see how its predictions differ for the two classes in the dataset."
      ],
      "metadata": {
        "id": "irKANvVsaEk0"
      }
    },
    {
      "cell_type": "markdown",
      "source": [
        "Task 5.2.17: Plot a confusion matrix that shows how your best model performs on your validation set."
      ],
      "metadata": {
        "id": "GlPL03dkaFjT"
      }
    },
    {
      "cell_type": "code",
      "source": [
        "# Plot confusion matrix\n",
        "ConfusionMatrixDisplay.from_estimator(model_reg, X_test,y_test);"
      ],
      "metadata": {
        "id": "zMyRuG8faGsZ"
      },
      "execution_count": null,
      "outputs": []
    },
    {
      "cell_type": "markdown",
      "source": [
        "In this lesson, we didn't do any hyperparameter tuning, but it will be helpful in the next lesson to know what the depth of the tree model_over."
      ],
      "metadata": {
        "id": "yY4dGoc0aIOg"
      }
    },
    {
      "cell_type": "markdown",
      "source": [
        "Task 5.2.18: Determine the depth of the decision tree in model_over."
      ],
      "metadata": {
        "id": "XQOFWjLlaJq7"
      }
    },
    {
      "cell_type": "code",
      "source": [
        "depth = model_over.named_steps[\"decisiontreeclassifier\"].get_depth()\n",
        "print(depth)"
      ],
      "metadata": {
        "id": "Ocauj5IeaK1m"
      },
      "execution_count": null,
      "outputs": []
    },
    {
      "cell_type": "markdown",
      "source": [
        "Communicate\n",
        "Now that we have a reasonable model, let's graph the importance of each feature."
      ],
      "metadata": {
        "id": "CHCC88RwaNFU"
      }
    },
    {
      "cell_type": "markdown",
      "source": [
        "Task 5.2.19: Create a horizontal bar chart with the 15 most important features for model_over. Be sure to label your x-axis \"Gini Importance\"."
      ],
      "metadata": {
        "id": "qsvgzI-eaOuW"
      }
    },
    {
      "cell_type": "code",
      "source": [
        "# Get importances\n",
        "importances = model_over.named_steps[\"decisiontreeclassifier\"].feature_importances_\n",
        "\n",
        "# Put importances into a Series\n",
        "feat_imp = pd.Series(importances, index=X_train_over.columns).sort_values()\n",
        "#feat_imp.head()\n",
        "# Plot series\n",
        "feat_imp.tail(15).plot(kind=\"barh\")\n",
        "plt.xlabel(\"Gini Importance\")\n",
        "plt.ylabel(\"Feature\")\n",
        "plt.title(\"model_over Feature Importance\");"
      ],
      "metadata": {
        "id": "cWy147eYaPy1"
      },
      "execution_count": null,
      "outputs": []
    },
    {
      "cell_type": "markdown",
      "source": [
        "There's our old friend \"feat_27\" near the top, along with features 34 and 26. It's time to share our findings.\n",
        "\n",
        "Sometimes communication means sharing a visualization. Other times, it means sharing the actual model you've made so that colleagues can use it on new data or deploy your model into production. First step towards production: saving your model."
      ],
      "metadata": {
        "id": "t0R0_VH1aRst"
      }
    },
    {
      "cell_type": "markdown",
      "source": [
        "Task 5.2.20: Using a context manager, save your best-performing model to a a file named \"model-5-2.pkl\"."
      ],
      "metadata": {
        "id": "yil9WqDnaTvE"
      }
    },
    {
      "cell_type": "code",
      "source": [
        "# Save your model as `\"model-5-2.pkl\"`\n",
        "with open(\"model-5-2.pkl\",\"wb\") as f:\n",
        "    pickle.dump(model_over, f)"
      ],
      "metadata": {
        "id": "gJl4PoT-aWpo"
      },
      "execution_count": null,
      "outputs": []
    },
    {
      "cell_type": "markdown",
      "source": [
        "Task 5.2.21: Make sure you've saved your model correctly by loading \"model-5-2.pkl\" and assigning to the variable loaded_model. Once you're satisfied with the result, run the last cell to submit your model to the grader."
      ],
      "metadata": {
        "id": "ZDDv0qmZaYLA"
      }
    },
    {
      "cell_type": "code",
      "source": [
        "# Load `\"model-5-2.pkl\"`\n",
        "with open(\"model-5-2.pkl\", \"rb\") as f:\n",
        "    loaded_model = pickle.load(f)\n",
        "\n",
        "print(loaded_model)"
      ],
      "metadata": {
        "id": "O9nnGnTpaZfX"
      },
      "execution_count": null,
      "outputs": []
    },
    {
      "cell_type": "code",
      "source": [
        "with open(\"model-5-2.pkl\", \"rb\") as f:\n",
        "    loaded_model = pickle.load(f)\n",
        "    wqet_grader.grade(\n",
        "        \"Project 5 Assessment\",\n",
        "        \"Task 5.2.16\",\n",
        "        loaded_model,\n",
        "    )"
      ],
      "metadata": {
        "id": "8i1dTGwbaaoq"
      },
      "execution_count": null,
      "outputs": []
    }
  ]
}